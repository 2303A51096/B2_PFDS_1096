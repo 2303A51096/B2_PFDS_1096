{
  "nbformat": 4,
  "nbformat_minor": 0,
  "metadata": {
    "colab": {
      "provenance": [],
      "authorship_tag": "ABX9TyNugXd1XQcm57AvvtfCAhcn",
      "include_colab_link": true
    },
    "kernelspec": {
      "name": "python3",
      "display_name": "Python 3"
    },
    "language_info": {
      "name": "python"
    }
  },
  "cells": [
    {
      "cell_type": "markdown",
      "metadata": {
        "id": "view-in-github",
        "colab_type": "text"
      },
      "source": [
        "<a href=\"https://colab.research.google.com/github/2303A51096/B2_PFDS_1096/blob/main/lab05.ipynb\" target=\"_parent\"><img src=\"https://colab.research.google.com/assets/colab-badge.svg\" alt=\"Open In Colab\"/></a>"
      ]
    },
    {
      "cell_type": "code",
      "execution_count": 2,
      "metadata": {
        "colab": {
          "base_uri": "https://localhost:8080/"
        },
        "id": "1S1H-a89Nke3",
        "outputId": "fd8cf06d-cc35-43d3-8fe4-6cfb3b3326f9"
      },
      "outputs": [
        {
          "output_type": "stream",
          "name": "stdout",
          "text": [
            "INNER MERGE RESULT:\n",
            "    sale_id  product_id  quantity product_name     category  price\n",
            "0      101           1         5       Laptop  Electronics  60000\n",
            "1      102           2        20        Mouse  Accessories    500\n",
            "2      103           2        15        Mouse  Accessories    500\n",
            "3      104           3        10     Keyboard  Accessories   1500\n",
            "4      105           4         8      Monitor  Electronics  12000\n",
            "5      106           4        12      Monitor  Electronics  12000 \n",
            "\n",
            "OUTER MERGE RESULT:\n",
            "    sale_id  product_id  quantity product_name     category  price\n",
            "0      101           1         5       Laptop  Electronics  60000\n",
            "1      102           2        20        Mouse  Accessories    500\n",
            "2      103           2        15        Mouse  Accessories    500\n",
            "3      104           3        10     Keyboard  Accessories   1500\n",
            "4      105           4         8      Monitor  Electronics  12000\n",
            "5      106           4        12      Monitor  Electronics  12000 \n",
            "\n",
            "TOTAL REVENUE: 572500\n",
            "AVERAGE PRODUCT PRICE: 18500.0 \n",
            "\n",
            "PRODUCT-WISE SALES:\n",
            "   product_name  revenue\n",
            "0     Keyboard    15000\n",
            "1       Laptop   300000\n",
            "2      Monitor   240000\n",
            "3        Mouse    17500 \n",
            "\n",
            "CATEGORY-WISE SALES:\n",
            "       category  revenue\n",
            "0  Accessories    32500\n",
            "1  Electronics   540000 \n",
            "\n",
            "BEST-SELLING CATEGORY:\n",
            " category    Electronics\n",
            "revenue          540000\n",
            "Name: 1, dtype: object \n",
            "\n",
            "KEY INSIGHTS:\n",
            "- The business generated total revenue of ₹572500.\n",
            "- Average product price is ₹18500.00.\n",
            "- The best-selling category is 'Electronics' contributing ₹540000 in revenue.\n"
          ]
        }
      ],
      "source": [
        "import pandas as pd\n",
        "\n",
        "products = pd.DataFrame({\n",
        "    \"product_id\": [1, 2, 3, 4],\n",
        "        \"product_name\": [\"Laptop\", \"Mouse\", \"Keyboard\", \"Monitor\"],\n",
        "            \"category\": [\"Electronics\", \"Accessories\", \"Accessories\", \"Electronics\"],\n",
        "                \"price\": [60000, 500, 1500, 12000]\n",
        "                })\n",
        "\n",
        "sales = pd.DataFrame({\n",
        "    \"sale_id\": [101, 102, 103, 104, 105, 106],\n",
        "        \"product_id\": [1, 2, 2, 3, 4, 4],\n",
        "            \"quantity\": [5, 20, 15, 10, 8, 12]\n",
        "            })\n",
        "\n",
        "inner_merge = pd.merge(sales, products, on=\"product_id\", how=\"inner\")\n",
        "outer_merge = pd.merge(sales, products, on=\"product_id\", how=\"outer\")\n",
        "\n",
        "print(\"INNER MERGE RESULT:\\n\", inner_merge, \"\\n\")\n",
        "print(\"OUTER MERGE RESULT:\\n\", outer_merge, \"\\n\")\n",
        "\n",
        "inner_merge[\"revenue\"] = inner_merge[\"quantity\"] * inner_merge[\"price\"]\n",
        "total_revenue = inner_merge[\"revenue\"].sum()\n",
        "avg_price = products[\"price\"].mean()\n",
        "product_sales = inner_merge.groupby(\"product_name\")[\"revenue\"].sum().reset_index()\n",
        "category_sales = inner_merge.groupby(\"category\")[\"revenue\"].sum().reset_index()\n",
        "best_category = category_sales.loc[category_sales[\"revenue\"].idxmax()]\n",
        "\n",
        "print(\"TOTAL REVENUE:\", total_revenue)\n",
        "print(\"AVERAGE PRODUCT PRICE:\", avg_price, \"\\n\")\n",
        "print(\"PRODUCT-WISE SALES:\\n\", product_sales, \"\\n\")\n",
        "print(\"CATEGORY-WISE SALES:\\n\", category_sales, \"\\n\")\n",
        "print(\"BEST-SELLING CATEGORY:\\n\", best_category, \"\\n\")\n",
        "\n",
        "print(\"KEY INSIGHTS:\")\n",
        "print(f\"- The business generated total revenue of ₹{total_revenue}.\")\n",
        "print(f\"- Average product price is ₹{avg_price:.2f}.\")\n",
        "print(f\"- The best-selling category is '{best_category['category']}' contributing ₹{best_category['revenue']} in revenue.\")"
      ]
    }
  ]
}