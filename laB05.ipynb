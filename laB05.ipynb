{
  "nbformat": 4,
  "nbformat_minor": 0,
  "metadata": {
    "colab": {
      "provenance": [],
      "authorship_tag": "ABX9TyNohals2ZwJybCxEWryumMn",
      "include_colab_link": true
    },
    "kernelspec": {
      "name": "python3",
      "display_name": "Python 3"
    },
    "language_info": {
      "name": "python"
    }
  },
  "cells": [
    {
      "cell_type": "markdown",
      "metadata": {
        "id": "view-in-github",
        "colab_type": "text"
      },
      "source": [
        "<a href=\"https://colab.research.google.com/github/2303A51096/B2_PFDS_1096/blob/main/laB05.ipynb\" target=\"_parent\"><img src=\"https://colab.research.google.com/assets/colab-badge.svg\" alt=\"Open In Colab\"/></a>"
      ]
    },
    {
      "cell_type": "code",
      "execution_count": 1,
      "metadata": {
        "colab": {
          "base_uri": "https://localhost:8080/"
        },
        "id": "c1lKEDKO5I-x",
        "outputId": "e2dfe686-ec5b-4e2c-877b-413a8e1e18a7"
      },
      "outputs": [
        {
          "output_type": "stream",
          "name": "stdout",
          "text": [
            "Matrix multiplication: [[19 22]\n",
            " [43 50]]\n",
            "Transpose:\n",
            " [[1 3]\n",
            " [2 4]]\n",
            "Inverse:\n",
            " [[-2.   1. ]\n",
            " [ 1.5 -0.5]]\n",
            "Determinant: -2.0000000000000004\n"
          ]
        }
      ],
      "source": [
        "import numpy as np\n",
        "a=np.array([[1,2],[3,4]])\n",
        "b=np.array([[5,6],[7,8]])\n",
        "print(\"Matrix multiplication:\",np.dot(a,b))\n",
        "print(\"Transpose:\\n\",a.T)\n",
        "print(\"Inverse:\\n\",np.linalg.inv(a))\n",
        "print(\"Determinant:\",np.linalg.det(a))\n",
        ""
      ]
    },
    {
      "cell_type": "code",
      "source": [],
      "metadata": {
        "id": "1OJjhIld7uww"
      },
      "execution_count": null,
      "outputs": []
    },
    {
      "cell_type": "code",
      "source": [
        "marks=np.array([[85,90,88],[78,81,85],[92,89,95]])\n",
        "print(\"Average marks per student\",np.mean(marks,axis=1))#row\n",
        "print(\"Average marks per subject\",np.mean(marks,axis=0))#column\n",
        "print(\"Highest marks in each subject\",np.max(marks,axis=0))\n",
        "print(\"lowest marks in each subject\",np.min(marks,axis=0))\n",
        ""
      ],
      "metadata": {
        "colab": {
          "base_uri": "https://localhost:8080/"
        },
        "id": "jcRtqMQ05z_Z",
        "outputId": "330c1882-1f23-4b64-8153-d3d378b56a6d"
      },
      "execution_count": 2,
      "outputs": [
        {
          "output_type": "stream",
          "name": "stdout",
          "text": [
            "Average marks per student [87.66666667 81.33333333 92.        ]\n",
            "Average marks per subject [85.         86.66666667 89.33333333]\n",
            "Highest marks in each subject [92 90 95]\n",
            "lowest marks in each subject [78 81 85]\n"
          ]
        }
      ]
    },
    {
      "cell_type": "code",
      "source": [
        "import pandas as pd\n",
        "b=[10,20,40,50]\n",
        "a=pd.Series(b)\n",
        "print(\"pandas series:\")\n",
        "print(a)"
      ],
      "metadata": {
        "colab": {
          "base_uri": "https://localhost:8080/"
        },
        "id": "_53uUkr37yrw",
        "outputId": "2783db55-69f9-4133-f78c-a3e1d46e0e50"
      },
      "execution_count": 5,
      "outputs": [
        {
          "output_type": "stream",
          "name": "stdout",
          "text": [
            "pandas series:\n",
            "0    10\n",
            "1    20\n",
            "2    40\n",
            "3    50\n",
            "dtype: int64\n"
          ]
        }
      ]
    },
    {
      "cell_type": "code",
      "source": [
        "import pandas as pd\n",
        "b=[10,20,30,44,55]\n",
        "index=['a','b','c','d','e']\n",
        "c=pd.Series(b,index)\n",
        "print(c)"
      ],
      "metadata": {
        "colab": {
          "base_uri": "https://localhost:8080/"
        },
        "id": "ISq-vu3f8v-Q",
        "outputId": "8184943a-f5dd-4b2f-f871-be47f015f469"
      },
      "execution_count": 7,
      "outputs": [
        {
          "output_type": "stream",
          "name": "stdout",
          "text": [
            "a    10\n",
            "b    20\n",
            "c    30\n",
            "d    44\n",
            "e    55\n",
            "dtype: int64\n"
          ]
        }
      ]
    },
    {
      "cell_type": "code",
      "source": [
        "import pandas as pd\n",
        "data={'name':['jay','seetha','rama'],'age':[22,19,33],'city':['hyd','wgl','hnk']}\n",
        "df=pd.DataFrame(data)\n",
        "print(df)\n",
        "print(df['name'])\n",
        "print(df[['name','city']]) # Corrected: use a list to select multiple columns\n",
        "df['pincode']=[506001,501133,344440]\n",
        "print(df)\n",
        "df=df.drop('city',axis=1) # Corrected: axis should be 1 for columns\n",
        "print(df)\n",
        "print(df.iloc[1])\n",
        "print(df.loc[2])\n",
        "print(df[df['age']>20])\n",
        "print(df['age'].mean())\n",
        "print(df['age'].max())\n",
        "print(df['age'].min())"
      ],
      "metadata": {
        "colab": {
          "base_uri": "https://localhost:8080/"
        },
        "id": "C5lkS_38-L7n",
        "outputId": "fa23bfc4-18a1-4a92-fe8b-e250862a613a"
      },
      "execution_count": 13,
      "outputs": [
        {
          "output_type": "stream",
          "name": "stdout",
          "text": [
            "     name  age city\n",
            "0     jay   22  hyd\n",
            "1  seetha   19  wgl\n",
            "2    rama   33  hnk\n",
            "0       jay\n",
            "1    seetha\n",
            "2      rama\n",
            "Name: name, dtype: object\n",
            "     name city\n",
            "0     jay  hyd\n",
            "1  seetha  wgl\n",
            "2    rama  hnk\n",
            "     name  age city  pincode\n",
            "0     jay   22  hyd   506001\n",
            "1  seetha   19  wgl   501133\n",
            "2    rama   33  hnk   344440\n",
            "     name  age  pincode\n",
            "0     jay   22   506001\n",
            "1  seetha   19   501133\n",
            "2    rama   33   344440\n",
            "name       seetha\n",
            "age            19\n",
            "pincode    501133\n",
            "Name: 1, dtype: object\n",
            "name         rama\n",
            "age            33\n",
            "pincode    344440\n",
            "Name: 2, dtype: object\n",
            "   name  age  pincode\n",
            "0   jay   22   506001\n",
            "2  rama   33   344440\n",
            "24.666666666666668\n",
            "33\n",
            "19\n"
          ]
        }
      ]
    },
    {
      "cell_type": "code",
      "source": [
        "import pandas as pd\n",
        "stu_data={'student_id':[11,12,13,14],'name':['anoop','abhi','sita', None],'marks':[66,75,89, None],'dept':['cse','ece','cse', None]}\n",
        "df=pd.DataFrame(stu_data)\n",
        "print(\"student data:\")\n",
        "print(df)"
      ],
      "metadata": {
        "colab": {
          "base_uri": "https://localhost:8080/"
        },
        "id": "laeflc93Dj4W",
        "outputId": "cf82f181-2650-415e-abb8-185296bce62a"
      },
      "execution_count": 15,
      "outputs": [
        {
          "output_type": "stream",
          "name": "stdout",
          "text": [
            "student data:\n",
            "   student_id   name  marks  dept\n",
            "0          11  anoop   66.0   cse\n",
            "1          12   abhi   75.0   ece\n",
            "2          13   sita   89.0   cse\n",
            "3          14   None    NaN  None\n"
          ]
        }
      ]
    },
    {
      "cell_type": "code",
      "source": [
        "import pandas as pd\n",
        "\n",
        "stu_data={'S.name':['a','b','c'],'student_roll':[11,12,13,],'m1':[66,75,89],'m2':[66,75,89],'m3':[66,75,89],'total':['2','22','33'],'avg':['4','77','55'],'result':['5','62','43']}\n",
        "\n",
        "\n",
        "df=pd.DataFrame(stu_data).set_index('S.name')\n",
        "\n",
        "print(\"student data:\")\n",
        "print(df)"
      ],
      "metadata": {
        "colab": {
          "base_uri": "https://localhost:8080/"
        },
        "id": "jXx4sIXRAG7X",
        "outputId": "aa201709-5396-4d35-ea4b-9588481eadc4"
      },
      "execution_count": 42,
      "outputs": [
        {
          "output_type": "stream",
          "name": "stdout",
          "text": [
            "student data:\n",
            "        student_roll  m1  m2  m3 total avg result\n",
            "S.name                                           \n",
            "a                 11  66  66  66     2   4      5\n",
            "b                 12  75  75  75    22  77     62\n",
            "c                 13  89  89  89    33  55     43\n"
          ]
        }
      ]
    }
  ]
}