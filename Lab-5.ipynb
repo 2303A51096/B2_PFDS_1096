{
  "nbformat": 4,
  "nbformat_minor": 0,
  "metadata": {
    "colab": {
      "provenance": [],
      "authorship_tag": "ABX9TyNT9CLtf2GIwXrOT7KezuEp",
      "include_colab_link": true
    },
    "kernelspec": {
      "name": "python3",
      "display_name": "Python 3"
    },
    "language_info": {
      "name": "python"
    }
  },
  "cells": [
    {
      "cell_type": "markdown",
      "metadata": {
        "id": "view-in-github",
        "colab_type": "text"
      },
      "source": [
        "<a href=\"https://colab.research.google.com/github/2303A51096/B2_PFDS_1096/blob/main/Lab-5.ipynb\" target=\"_parent\"><img src=\"https://colab.research.google.com/assets/colab-badge.svg\" alt=\"Open In Colab\"/></a>"
      ]
    },
    {
      "cell_type": "code",
      "execution_count": 1,
      "metadata": {
        "colab": {
          "base_uri": "https://localhost:8080/"
        },
        "id": "HZ-UA5wo5C4A",
        "outputId": "01089c28-6cb4-4ab1-fe2f-6168acafbe27"
      },
      "outputs": [
        {
          "output_type": "stream",
          "name": "stdout",
          "text": [
            "Matrix multiplication: [[19 22]\n",
            " [43 50]]\n",
            "Transpose:\n",
            " [[1 3]\n",
            " [2 4]]\n",
            "Inverse:\n",
            " [[-2.   1. ]\n",
            " [ 1.5 -0.5]]\n",
            "Determinant: -2.0000000000000004\n"
          ]
        }
      ],
      "source": [
        "import numpy as np\n",
        "a=np.array([[1,2],[3,4]])\n",
        "b=np.array([[5,6],[7,8]])\n",
        "print(\"Matrix multiplication:\",np.dot(a,b))\n",
        "print(\"Transpose:\\n\",a.T)\n",
        "print(\"Inverse:\\n\",np.linalg.inv(a))\n",
        "print(\"Determinant:\",np.linalg.det(a))"
      ]
    },
    {
      "cell_type": "code",
      "source": [
        "marks=np.array([[85,90,88],[78,81,85],[92,89,95]])\n",
        "print(\"Average marks per student\",np.mean(marks,axis=1))#row\n",
        "print(\"Average marks per subject\",np.mean(marks,axis=0))#column\n",
        "print(\"Highest marks in each subject\",np.max(marks,axis=0))\n",
        "print(\"lowest marks in each subject\",np.min(marks,axis=0))"
      ],
      "metadata": {
        "colab": {
          "base_uri": "https://localhost:8080/"
        },
        "id": "VVyqgsr05HFd",
        "outputId": "04f3c56c-0f36-4350-b14f-e0e663d2dd3b"
      },
      "execution_count": 2,
      "outputs": [
        {
          "output_type": "stream",
          "name": "stdout",
          "text": [
            "Average marks per student [87.66666667 81.33333333 92.        ]\n",
            "Average marks per subject [85.         86.66666667 89.33333333]\n",
            "Highest marks in each subject [92 90 95]\n",
            "lowest marks in each subject [78 81 85]\n"
          ]
        }
      ]
    },
    {
      "cell_type": "code",
      "source": [],
      "metadata": {
        "id": "-8Wn5j3H5a5B"
      },
      "execution_count": null,
      "outputs": []
    }
  ]
}