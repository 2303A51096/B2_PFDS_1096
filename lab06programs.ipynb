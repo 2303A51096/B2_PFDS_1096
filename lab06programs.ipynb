{
  "nbformat": 4,
  "nbformat_minor": 0,
  "metadata": {
    "colab": {
      "provenance": [],
      "authorship_tag": "ABX9TyNMBsb9N/uT/4FunnG+94Qn",
      "include_colab_link": true
    },
    "kernelspec": {
      "name": "python3",
      "display_name": "Python 3"
    },
    "language_info": {
      "name": "python"
    }
  },
  "cells": [
    {
      "cell_type": "markdown",
      "metadata": {
        "id": "view-in-github",
        "colab_type": "text"
      },
      "source": [
        "<a href=\"https://colab.research.google.com/github/2303A51096/B2_PFDS_1096/blob/main/lab06programs.ipynb\" target=\"_parent\"><img src=\"https://colab.research.google.com/assets/colab-badge.svg\" alt=\"Open In Colab\"/></a>"
      ]
    },
    {
      "cell_type": "code",
      "source": [
        "import pandas as pd\n",
        "import numpy as np\n",
        "data={\n",
        "'name':['abhi','neha','raju','seetha'],\n",
        "'age':[22,np.nan,30,27],\n",
        "'marks':[85,92,np.nan,95]\n",
        "}\n",
        "df=pd.DataFrame(data)\n",
        "print(\"original dataframe:\")\n",
        "print(df)\n",
        "print(\"\\ncheck for mising values:\")\n",
        "print(df.isnull())"
      ],
      "metadata": {
        "colab": {
          "base_uri": "https://localhost:8080/"
        },
        "id": "Rhw_hD3_B13j",
        "outputId": "8cb6220a-d541-442d-c6cc-afeffcabee77"
      },
      "execution_count": 2,
      "outputs": [
        {
          "output_type": "stream",
          "name": "stdout",
          "text": [
            "original dataframe:\n",
            "     name   age  marks\n",
            "0    abhi  22.0   85.0\n",
            "1    neha   NaN   92.0\n",
            "2    raju  30.0    NaN\n",
            "3  seetha  27.0   95.0\n",
            "\n",
            "check for mising values:\n",
            "    name    age  marks\n",
            "0  False  False  False\n",
            "1  False   True  False\n",
            "2  False  False   True\n",
            "3  False  False  False\n"
          ]
        }
      ]
    },
    {
      "cell_type": "code",
      "source": [
        "df_dropped=df.dropna()\n",
        "print(\"\\nDataFrame after dropping rows with missing values:\")\n",
        "print(df_dropped)"
      ],
      "metadata": {
        "colab": {
          "base_uri": "https://localhost:8080/"
        },
        "id": "r_w9TQhECF-U",
        "outputId": "ae303555-f188-4f2b-b177-45cb4256cea3"
      },
      "execution_count": 3,
      "outputs": [
        {
          "output_type": "stream",
          "name": "stdout",
          "text": [
            "\n",
            "DataFrame after dropping rows with missing values:\n",
            "     name   age  marks\n",
            "0    abhi  22.0   85.0\n",
            "3  seetha  27.0   95.0\n"
          ]
        }
      ]
    },
    {
      "cell_type": "code",
      "source": [
        "df_filled=df.fillna(0)\n",
        "print(\"filled with 0:\")\n",
        "print(df_filled)\n",
        "df['age']\n",
        "df['age'].fillna(df['age'].mean())\n",
        "df['marks']\n",
        "df['marks'].fillna(df['marks'].mean())\n",
        "print(\"\\nfilled with mean:\")\n",
        "print(df)"
      ],
      "metadata": {
        "colab": {
          "base_uri": "https://localhost:8080/"
        },
        "id": "AT_QkWExED8o",
        "outputId": "09090479-1933-40f2-f898-cb265385d36e"
      },
      "execution_count": 7,
      "outputs": [
        {
          "output_type": "stream",
          "name": "stdout",
          "text": [
            "filled with 0:\n",
            "     name   age  marks\n",
            "0    abhi  22.0   85.0\n",
            "1    neha   0.0   92.0\n",
            "2    raju  30.0    0.0\n",
            "3  seetha  27.0   95.0\n",
            "\n",
            "filled with mean:\n",
            "     name   age  marks\n",
            "0    abhi  22.0   85.0\n",
            "1    neha   NaN   92.0\n",
            "2    raju  30.0    NaN\n",
            "3  seetha  27.0   95.0\n"
          ]
        }
      ]
    },
    {
      "cell_type": "code",
      "source": [
        "df=pd.DataFrame(data)\n",
        "print(\"original dataframe with duplicates:\")\n",
        "print(df)\n",
        "df_no_dup=df.drop_duplicates()\n",
        "print(\"\\nafter removing duplicates\")\n",
        "print(df_no_dup)"
      ],
      "metadata": {
        "colab": {
          "base_uri": "https://localhost:8080/"
        },
        "id": "QoZbv0x8Fju2",
        "outputId": "6ac30b61-51cf-465d-b43a-1337836ecf2c"
      },
      "execution_count": 10,
      "outputs": [
        {
          "output_type": "stream",
          "name": "stdout",
          "text": [
            "original dataframe with duplicates:\n",
            "     name   age  marks\n",
            "0    abhi  22.0   85.0\n",
            "1    neha   NaN   92.0\n",
            "2    raju  30.0    NaN\n",
            "3  seetha  27.0   95.0\n",
            "\n",
            "after removing duplicates\n",
            "     name   age  marks\n",
            "0    abhi  22.0   85.0\n",
            "1    neha   NaN   92.0\n",
            "2    raju  30.0    NaN\n",
            "3  seetha  27.0   95.0\n"
          ]
        }
      ]
    },
    {
      "cell_type": "code",
      "source": [
        "df=pd.DataFrame(data)\n",
        "print(\"original dataframe:\")\n",
        "print(df.dtypes)\n",
        "print(\"\\nAfter Conversion:\")\n",
        "print(df.dtypes)"
      ],
      "metadata": {
        "colab": {
          "base_uri": "https://localhost:8080/"
        },
        "id": "rKZ5HZXQGz7y",
        "outputId": "5cb66ba6-1dc1-4089-f9f3-5649e1cdf0b1"
      },
      "execution_count": 12,
      "outputs": [
        {
          "output_type": "stream",
          "name": "stdout",
          "text": [
            "original dataframe:\n",
            "name      object\n",
            "age      float64\n",
            "marks    float64\n",
            "dtype: object\n",
            "\n",
            "After Conversion:\n",
            "name      object\n",
            "age      float64\n",
            "marks    float64\n",
            "dtype: object\n"
          ]
        }
      ]
    },
    {
      "cell_type": "code",
      "source": [
        "df['marks'] = df['marks'].apply(lambda x: x + 5)\n",
        "print(\"After Adding Bonus Marks:\")\n",
        "print(df)"
      ],
      "metadata": {
        "colab": {
          "base_uri": "https://localhost:8080/"
        },
        "id": "QiEUsWOTIrij",
        "outputId": "de256a7d-2fb0-4663-87cc-fa3a7c775f50"
      },
      "execution_count": 14,
      "outputs": [
        {
          "output_type": "stream",
          "name": "stdout",
          "text": [
            "After Adding Bonus Marks:\n",
            "     name   age  marks\n",
            "0    abhi  22.0   90.0\n",
            "1    neha   NaN   97.0\n",
            "2    raju  30.0    NaN\n",
            "3  seetha  27.0  100.0\n"
          ]
        }
      ]
    },
    {
      "cell_type": "code",
      "source": [
        "df['Marks_Normalized'] = (df['marks'] - df['marks'].min()) / (df['marks'].max() - df['marks'].min())\n",
        "print(\"Normalized Marks:\")\n",
        "print(df)"
      ],
      "metadata": {
        "colab": {
          "base_uri": "https://localhost:8080/"
        },
        "id": "2VxWW_5hJbSL",
        "outputId": "53fe9654-e5cb-4147-d8c4-c92c6be9385a"
      },
      "execution_count": 16,
      "outputs": [
        {
          "output_type": "stream",
          "name": "stdout",
          "text": [
            "Normalized Marks:\n",
            "     name   age  marks  Marks_Normalized\n",
            "0    abhi  22.0   90.0               0.0\n",
            "1    neha   NaN   97.0               0.7\n",
            "2    raju  30.0    NaN               NaN\n",
            "3  seetha  27.0  100.0               1.0\n"
          ]
        }
      ]
    }
  ]
}